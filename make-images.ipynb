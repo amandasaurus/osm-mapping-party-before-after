{
 "cells": [
  {
   "cell_type": "markdown",
   "id": "1e92ba34-4a61-468f-b4da-ebb32432202d",
   "metadata": {},
   "source": [
    "# Create a before/after-map of OpenStreetMap data\n",
    "\n",
    "This notebook allows you to make a set of images of OSM data of an area from 2 dates, showing what was changed.\n",
    "\n",
    "Before using this notebook, you will have to upload an OSM history file of your region of interest. You can find the corresponding files on [Geofabrik's internal download server](https://osm-internal.download.geofabrik.de/?landing_page=true). Then you can upload them from the main tree/lab view of the notebook (uploading them within the notebook is not supported due to the size of the files).\n",
    "\n",
    "Once the file or files are uploaded you can pick it from the list below:"
   ]
  },
  {
   "cell_type": "code",
   "execution_count": 84,
   "id": "cf6cc023-ea39-46eb-885e-86a184dc1850",
   "metadata": {},
   "outputs": [
    {
     "data": {
      "application/vnd.jupyter.widget-view+json": {
       "model_id": "13c9d3ebf8b54c168d8612b31cfa3636",
       "version_major": 2,
       "version_minor": 0
      },
      "text/plain": [
       "VBox(children=(Dropdown(description='File:', options=('argentina-internal.osh.pbf',), value='argentina-interna…"
      ]
     },
     "execution_count": 84,
     "metadata": {},
     "output_type": "execute_result"
    }
   ],
   "source": [
    "import ipywidgets as widgets\n",
    "import glob\n",
    "\n",
    "filename = widgets.Dropdown(\n",
    "    options=glob.glob(\"*.pbf\"),\n",
    "    description='File:',\n",
    "    disabled=False,\n",
    ")\n",
    "\n",
    "bbox_label= widgets.Label(\n",
    "    value=\"BBox is in long/lat and can be found via bboxfinder.com\",\n",
    "    layout=widgets.Layout(width='100%')\n",
    ")\n",
    "\n",
    "bbox = widgets.Text(\n",
    "    placeholder='-61.975228,-33.749067,-61.953167,-33.733014',\n",
    "    description='BBox:',\n",
    "    disabled=False   \n",
    ")\n",
    "\n",
    "\n",
    "start_date = widgets.NaiveDatetimePicker(description='Start datetime')\n",
    "end_date = widgets.NaiveDatetimePicker(description='End datetime')\n",
    "\n",
    "min_zoom_level = widgets.Dropdown(\n",
    "    options=range(0,21),\n",
    "    description='Min Zoom:',\n",
    "    disabled=False,\n",
    ")\n",
    "\n",
    "max_zoom_level = widgets.Dropdown(\n",
    "    options=range(0,21),\n",
    "    description='Max Zoom:',\n",
    "    disabled=False,\n",
    ")\n",
    "\n",
    "\n",
    "\n",
    "widgets.VBox([\n",
    "    filename,\n",
    "    bbox,\n",
    "    bbox_label,\n",
    "    start_date,\n",
    "    end_date,\n",
    "    min_zoom_level,\n",
    "    max_zoom_level])"
   ]
  },
  {
   "cell_type": "markdown",
   "id": "0fa54f42-e3f7-428b-b604-9450f4c659d7",
   "metadata": {},
   "source": [
    "Once you have set your parameters, you can run the cell below. The first time you run it, it will probably take a while, as it needs to download some external resources first, but subsequent outputs will be faster. The resulting images will be saved as \"progress.filename.*parameters*.png/gif."
   ]
  },
  {
   "cell_type": "code",
   "execution_count": 107,
   "id": "d5932adf-763e-4a3a-8f96-9247cb90ecc2",
   "metadata": {},
   "outputs": [],
   "source": [
    "!./make.sh {filename.value} {start_date.value.isoformat()}Z {end_date.value.isoformat()}Z {bbox.value} {min_zoom_level.value} {max_zoom_level.value}"
   ]
  },
  {
   "cell_type": "markdown",
   "id": "1bd7bf97-b569-4001-8e87-7ece096db213",
   "metadata": {},
   "source": [
    "Enjoy mapping and visualizing!"
   ]
  }
 ],
 "metadata": {
  "kernelspec": {
   "display_name": "Python 3 (ipykernel)",
   "language": "python",
   "name": "python3"
  },
  "language_info": {
   "codemirror_mode": {
    "name": "ipython",
    "version": 3
   },
   "file_extension": ".py",
   "mimetype": "text/x-python",
   "name": "python",
   "nbconvert_exporter": "python",
   "pygments_lexer": "ipython3",
   "version": "3.9.2"
  }
 },
 "nbformat": 4,
 "nbformat_minor": 5
}
